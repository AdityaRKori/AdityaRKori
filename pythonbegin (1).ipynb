{
  "nbformat": 4,
  "nbformat_minor": 0,
  "metadata": {
    "colab": {
      "provenance": []
    },
    "kernelspec": {
      "name": "python3",
      "display_name": "Python 3"
    },
    "language_info": {
      "name": "python"
    }
  },
  "cells": [
    {
      "cell_type": "markdown",
      "source": [
        "This is python UI"
      ],
      "metadata": {
        "id": "CE0az8irxJlV"
      }
    },
    {
      "cell_type": "code",
      "execution_count": 1,
      "metadata": {
        "colab": {
          "base_uri": "https://localhost:8080/"
        },
        "id": "PbQ6WV8rwb0j",
        "outputId": "2ad6a20a-f8fa-4bae-afbd-6d3d341b7f57"
      },
      "outputs": [
        {
          "name": "stdout",
          "output_type": "stream",
          "text": [
            "Hi please give me input:56\n"
          ]
        }
      ],
      "source": [
        "var1 = input(\"Hi please give me input:\")"
      ]
    },
    {
      "cell_type": "code",
      "source": [
        "# Input data\n",
        "variable_name = input(\"Please give me input:\")"
      ],
      "metadata": {
        "colab": {
          "base_uri": "https://localhost:8080/"
        },
        "id": "beyAvelKzyvK",
        "outputId": "f90da6ab-5ccf-4acd-e943-9ad3a1a6b0a5"
      },
      "execution_count": 3,
      "outputs": [
        {
          "name": "stdout",
          "output_type": "stream",
          "text": [
            "Please give me input:8\n"
          ]
        }
      ]
    },
    {
      "cell_type": "code",
      "source": [
        "variable_name"
      ],
      "metadata": {
        "colab": {
          "base_uri": "https://localhost:8080/",
          "height": 36
        },
        "id": "guoVRQjl0YbQ",
        "outputId": "0a93515d-7d77-4fe6-b557-5c3b7ab89009"
      },
      "execution_count": 4,
      "outputs": [
        {
          "output_type": "execute_result",
          "data": {
            "text/plain": [
              "'8'"
            ],
            "application/vnd.google.colaboratory.intrinsic+json": {
              "type": "string"
            }
          },
          "metadata": {},
          "execution_count": 4
        }
      ]
    },
    {
      "cell_type": "code",
      "source": [
        "print(\"value is:\", variable_name, \".\")"
      ],
      "metadata": {
        "colab": {
          "base_uri": "https://localhost:8080/"
        },
        "id": "LCadwg050tPo",
        "outputId": "d121058d-dbea-4b1c-f076-167ba479fa64"
      },
      "execution_count": 6,
      "outputs": [
        {
          "output_type": "stream",
          "name": "stdout",
          "text": [
            "value is: 8 .\n"
          ]
        }
      ]
    },
    {
      "cell_type": "code",
      "source": [
        "# in the next we are printing output\n",
        "print(\"variable value is:\", variable_name)"
      ],
      "metadata": {
        "colab": {
          "base_uri": "https://localhost:8080/"
        },
        "id": "eHJZ2Gql1DkB",
        "outputId": "038b589d-72c3-4d12-bea9-dd41734efaf4"
      },
      "execution_count": 7,
      "outputs": [
        {
          "output_type": "stream",
          "name": "stdout",
          "text": [
            "variable value is: 8\n"
          ]
        }
      ]
    },
    {
      "cell_type": "code",
      "source": [
        "a = 1\n",
        "var = 1"
      ],
      "metadata": {
        "id": "BAn8jyzO2aa1"
      },
      "execution_count": 9,
      "outputs": []
    },
    {
      "cell_type": "code",
      "source": [
        "!python --version"
      ],
      "metadata": {
        "colab": {
          "base_uri": "https://localhost:8080/"
        },
        "id": "NzfmdFfC2q18",
        "outputId": "851326c4-ecfd-485f-85af-dafbf5b4d35b"
      },
      "execution_count": 10,
      "outputs": [
        {
          "output_type": "stream",
          "name": "stdout",
          "text": [
            "Python 3.10.12\n"
          ]
        }
      ]
    },
    {
      "cell_type": "code",
      "source": [],
      "metadata": {
        "id": "zHbYm51U20VB"
      },
      "execution_count": null,
      "outputs": []
    },
    {
      "cell_type": "markdown",
      "source": [
        "VARIABLE"
      ],
      "metadata": {
        "id": "aijCJm2y23J0"
      }
    },
    {
      "cell_type": "code",
      "source": [
        "cab = 'ola'\n",
        "CAB = \"ola1\"\n",
        "_cost = 100.6"
      ],
      "metadata": {
        "id": "EZ5w2JZF3LN9"
      },
      "execution_count": 12,
      "outputs": []
    },
    {
      "cell_type": "code",
      "source": [
        "\n",
        "cab = 'ola'"
      ],
      "metadata": {
        "id": "kWan2UWk4H7L"
      },
      "execution_count": 15,
      "outputs": []
    },
    {
      "cell_type": "code",
      "source": [
        "int(99.999)"
      ],
      "metadata": {
        "colab": {
          "base_uri": "https://localhost:8080/"
        },
        "id": "SOoRP-sI4pak",
        "outputId": "96edeaef-5e27-4519-84cd-5375edf5dbb2"
      },
      "execution_count": 16,
      "outputs": [
        {
          "output_type": "execute_result",
          "data": {
            "text/plain": [
              "99"
            ]
          },
          "metadata": {},
          "execution_count": 16
        }
      ]
    },
    {
      "cell_type": "code",
      "source": [
        "x = 12\n",
        "y = 11\n",
        "\n",
        "# x = 12.3\n",
        "# y = 11.2\n",
        "print(x,y)\n",
        "\n",
        "z= x + y\n",
        "\n",
        "# Basic operations\n",
        "print(\"Add x and y is:\",z)\n",
        "print(\"Add x and y is:\", (x+y))\n",
        "print(\"Subtraction x and y is:\", (x-y))\n",
        "print(\"Multiplication x and y is:\", (x*y))\n",
        "print(\"Division x and y is:\", (x/y))\n",
        "print(\"Modulus x and y is:\", (x%y))\n",
        "print(\"Power x to y is:\",(x**y))"
      ],
      "metadata": {
        "colab": {
          "base_uri": "https://localhost:8080/"
        },
        "id": "BwKRk-v35RS1",
        "outputId": "83bec454-9aeb-4672-cf42-1329526640b6"
      },
      "execution_count": 22,
      "outputs": [
        {
          "output_type": "stream",
          "name": "stdout",
          "text": [
            "12 11\n",
            "Add x and y is: 23\n",
            "Add x and y is: 23\n",
            "Subtraction x and y is: 1\n",
            "Multiplication x and y is: 132\n",
            "Division x and y is: 1.0909090909090908\n",
            "Modulus x and y is: 1\n",
            "Power x to y is: 743008370688\n"
          ]
        }
      ]
    },
    {
      "cell_type": "code",
      "source": [
        "x= 100\n",
        "y= 10\n",
        "print(\"Modulus x and y is:\",(x%y))\n",
        "print(\"Powerx to x to y:\",(x**y))"
      ],
      "metadata": {
        "colab": {
          "base_uri": "https://localhost:8080/"
        },
        "id": "iluzcYiz7Q2k",
        "outputId": "dc1380ae-1c32-429e-a755-527e91738a48"
      },
      "execution_count": 24,
      "outputs": [
        {
          "output_type": "stream",
          "name": "stdout",
          "text": [
            "Modulus x and y is: 0\n",
            "Powerx to x to y: 100000000000000000000\n"
          ]
        }
      ]
    },
    {
      "cell_type": "code",
      "source": [
        "x = 1\n",
        "y = 2\n",
        "w,z = 1,2\n",
        "\n",
        "a = True\n",
        "b = False\n",
        "\n",
        "# Basic operations\n",
        "print('x==y : ', x==y)\n",
        "print('y==z : ', y==z)\n",
        "print('y>=z : ', y>=z)\n",
        "print('y<=z : ', y<=z)\n",
        "print('y!=z : ', y!=z)\n",
        "\n",
        "print('a and b : ', a and b)\n",
        "print('a or b : ', a or b)\n",
        "print('not of a : ', not a)\n"
      ],
      "metadata": {
        "colab": {
          "base_uri": "https://localhost:8080/"
        },
        "id": "oFTcdKGv8bfB",
        "outputId": "06a1c260-def1-49b7-f58b-b28b3886e6c5"
      },
      "execution_count": 76,
      "outputs": [
        {
          "output_type": "stream",
          "name": "stdout",
          "text": [
            "x==y :  False\n",
            "y==z :  True\n",
            "y>=z :  True\n",
            "y<=z :  True\n",
            "y!=z :  False\n",
            "a and b :  False\n",
            "a or b :  True\n",
            "not of a :  False\n"
          ]
        }
      ]
    },
    {
      "cell_type": "code",
      "source": [
        "s1 = 'Hi this is a string data'\n",
        "\n",
        "# Basic operations\n",
        "\n",
        "\n",
        "print(\"Initial String: \",s1)\n",
        "print(\"First 2 chars String:\",s1[:2])\n",
        "print(\"last 3 chars String:\",s1[-3:])\n",
        "print(\"Substring 4 to 8 chars String: \",s1[3:7])\n",
        "print(\"Upper case: \",s1.upper())\n",
        "print(\"Lower case: \",s1.lower())\n",
        "print(\"Replace substring: \",s1.replace(' ','*'))\n",
        "print(\"Length: \",len(s1))\n",
        "print(\"Contains substring Hi: \",(\"Hi\" in s1))\n",
        "print(\"Concat substring User: \",(s1 + \" User\"))"
      ],
      "metadata": {
        "colab": {
          "base_uri": "https://localhost:8080/"
        },
        "id": "nIkOSA_i-IZH",
        "outputId": "6158f29f-ef5c-49fd-8f7f-d4b67051e9c1"
      },
      "execution_count": 86,
      "outputs": [
        {
          "output_type": "stream",
          "name": "stdout",
          "text": [
            "Initial String:  Hi this is a string data\n",
            "First 2 chars String: Hi\n",
            "last 3 chars String: ata\n",
            "Substring 4 to 8 chars String:  this\n",
            "Upper case:  HI THIS IS A STRING DATA\n",
            "Lower case:  hi this is a string data\n",
            "Replace substring:  Hi*this*is*a*string*data\n",
            "Length:  24\n",
            "Contains substring Hi:  True\n",
            "Concat substring User:  Hi this is a string data User\n"
          ]
        }
      ]
    },
    {
      "cell_type": "code",
      "source": [
        "l1 =[100,200,250,300,350]"
      ],
      "metadata": {
        "id": "ZaPUJCAnHf3Y"
      },
      "execution_count": 38,
      "outputs": []
    },
    {
      "cell_type": "code",
      "source": [
        "l1"
      ],
      "metadata": {
        "colab": {
          "base_uri": "https://localhost:8080/"
        },
        "id": "j7bMCrllH7lS",
        "outputId": "56180c81-b8ad-414d-bc83-5f5ee846db80"
      },
      "execution_count": 39,
      "outputs": [
        {
          "output_type": "execute_result",
          "data": {
            "text/plain": [
              "[100, 200, 250, 300, 350]"
            ]
          },
          "metadata": {},
          "execution_count": 39
        }
      ]
    },
    {
      "cell_type": "code",
      "source": [
        "# Syntax\n",
        "# list [] or l1 =[]\n",
        "l1 =[100,200,250,300,350]\n",
        "print(\"Initial list: \",l1)\n",
        "\n",
        "#Length\n",
        "len1 = len(l1)\n",
        "print(\"Length of Intial list: \",len1)\n",
        "\n",
        "# Access\n",
        "print(\"1st element of list: \",l1[0])\n",
        "print(\"from 2nd to 3th element of list: \",l1[1:3])\n",
        "print(\"Last element of list: \",l1[-1])\n",
        "\n",
        "\n",
        "# Adding element\n",
        "# 1. Append elements\n",
        "l1.append(10)\n",
        "print(\"Append 10 to the list: \",l1)\n",
        "\n",
        "# 2. Insert elements\n",
        "l1.insert(0,50)\n",
        "print(\"Insert 50 at pos. 0: \",l1)\n",
        "\n",
        "#3. Concatenation elements\n",
        "l1 = l1 + [11,12]\n",
        "print(\"Concatenate 2 lists:\",l1)\n",
        "\n",
        "\n",
        "# removing elements\n",
        "l1.remove(300)\n",
        "print(\"Removed 300 from list:\",l1)\n",
        "\n",
        "# sort elements\n",
        "l1.sort()\n",
        "print(\"Sorted List: \",l1)\n",
        "\n",
        "\n",
        "#Contains element\n",
        "print(\"Whether list contains 10: \", 10 in l1)\n",
        "\n"
      ],
      "metadata": {
        "colab": {
          "base_uri": "https://localhost:8080/"
        },
        "id": "uc4NRvMiH-YO",
        "outputId": "2cfc6ff2-a94d-432e-8e38-3c4a8b2c0f3e"
      },
      "execution_count": 58,
      "outputs": [
        {
          "output_type": "stream",
          "name": "stdout",
          "text": [
            "Initial list:  [100, 200, 250, 300, 350]\n",
            "Length of Intial list:  5\n",
            "1st element of list:  100\n",
            "from 2nd to 3th element of list:  [200, 250]\n",
            "Last element of list:  350\n",
            "Append 10 to the list:  [100, 200, 250, 300, 350, 10]\n",
            "Insert 50 at pos. 0:  [50, 100, 200, 250, 300, 350, 10]\n",
            "Concatenate 2 lists: [50, 100, 200, 250, 300, 350, 10, 11, 12]\n",
            "Removed 300 from list: [50, 100, 200, 250, 350, 10, 11, 12]\n",
            "Sorted List:  [10, 11, 12, 50, 100, 200, 250, 350]\n",
            "Whether list contains 10:  True\n"
          ]
        }
      ]
    },
    {
      "cell_type": "code",
      "source": [
        "#syntax\n",
        "# set1 = {} or set1 = {[]} or set(list)\n",
        "set1 = {\"Patient 1\",\"Patient 2\",\"Patient 3\", \"Patient 4\"}\n",
        "print(\"Initial Set: \",set1)\n",
        "\n",
        "print(\"Length of Initial set:\",len(set1))\n",
        "\n",
        "# Unique elements in a list\n",
        "list1 = [\"Patient 1\",\"Patient 2\",\"Patient 3\",\n",
        "         \"Patient 2\",\"Patient 3\",\"Patient 1\",\n",
        "         \"Patient 2\"]\n",
        "set2 = set(list1)\n",
        "print(\"Unique elements of list:\",set2)\n",
        "\n",
        "# Substract 2 sets\n",
        "\n",
        "set3 = set1 - set2\n",
        "print(\"Difference between 2 sets:\",set3)\n",
        "\n",
        "\n",
        ""
      ],
      "metadata": {
        "colab": {
          "base_uri": "https://localhost:8080/"
        },
        "id": "sTw9hJwgOxMI",
        "outputId": "d0b90252-e3f3-4333-90a4-cad196c7d104"
      },
      "execution_count": 65,
      "outputs": [
        {
          "output_type": "stream",
          "name": "stdout",
          "text": [
            "Initial Set:  {'Patient 4', 'Patient 3', 'Patient 2', 'Patient 1'}\n",
            "Length of Initial set: 4\n",
            "Unique elements of list: {'Patient 3', 'Patient 2', 'Patient 1'}\n",
            "Difference between 2 sets: {'Patient 4'}\n"
          ]
        }
      ]
    },
    {
      "cell_type": "code",
      "source": [
        "# Syntax\n",
        "# dict1 = {\"\":\"\",\"\"}\n",
        "\n",
        "dict_age = {\"Patient 1\":20,\"Patient 2\":25,\"Patient 3\":28}\n",
        "\n",
        "\n",
        "# ACCESS keys\n",
        "print(\"Keys are:\",dict_age.keys())\n",
        "\n",
        "# ACCESS values\n",
        "\n",
        "print(\"Values are:\",dict_age.values())\n",
        "\n",
        "# Access values based on keys\n",
        "print(\"Age of Patient 1 is:\",dict_age['Patient 1'])\n",
        "print(\"Age of Patient 2 is:\",dict_age['Patient 2'])\n",
        "print(\"Age of Patient 3 is:\",dict_age[\"Patient 3\"])\n"
      ],
      "metadata": {
        "colab": {
          "base_uri": "https://localhost:8080/"
        },
        "id": "_qFaTyI7SRtI",
        "outputId": "bfc9ee6a-0270-47f8-f88c-98a652e7e785"
      },
      "execution_count": 69,
      "outputs": [
        {
          "output_type": "stream",
          "name": "stdout",
          "text": [
            "Keys are: dict_keys(['Patient 1', 'Patient 2', 'Patient 3'])\n",
            "Values are: dict_values([20, 25, 28])\n",
            "Age of Patient 1 is: 20\n",
            "Age of Patient 2 is: 25\n",
            "Age of Patient 3 is: 28\n"
          ]
        }
      ]
    },
    {
      "cell_type": "code",
      "source": [
        " # Example of tuple representing patient information(name, age, gender)\n",
        " patient1 = (\"Patient 1\",30, \"Male\")\n",
        " patient2 = (\"Pravin\",25, \"Female\")\n",
        " patient3 = (\"sham\",35, \"Male\")\n",
        "\n",
        " #Access\n",
        " print(\"Age of Patient 1:\",patient1[1])\n",
        "\n",
        "\n",
        " # Unpacking\n",
        " p1_name,p1_age,p1_gender = patient1\n",
        "\n",
        "\n",
        " print(\"Gender of Pravin:\",patient2[2])\n",
        " print(\"Name of Patient3:\",patient3[0])"
      ],
      "metadata": {
        "colab": {
          "base_uri": "https://localhost:8080/"
        },
        "id": "izk_rRD4VU0X",
        "outputId": "654f8b4c-84f7-4a23-e1e1-4dea69280e35"
      },
      "execution_count": 74,
      "outputs": [
        {
          "output_type": "stream",
          "name": "stdout",
          "text": [
            "Age of Patient 1: 30\n",
            "Gender of Pravin: Female\n",
            "Name of Patient3: sham\n"
          ]
        }
      ]
    },
    {
      "cell_type": "code",
      "source": [
        "#conditional statement\n",
        "\n",
        "\n",
        "\n",
        "var_age = 10\n",
        "if var_age >18:\n",
        "  print(\"Greater than 18\")\n",
        "\n",
        "elif var_age == 18:\n",
        "    print(\"Equal to 18\")\n",
        "\n",
        "else:\n",
        "      print(\"less than 18\")\n"
      ],
      "metadata": {
        "colab": {
          "base_uri": "https://localhost:8080/"
        },
        "id": "4p8Vt7LLo4N8",
        "outputId": "62f28b2f-a411-40ce-9303-85c59536dba2"
      },
      "execution_count": 91,
      "outputs": [
        {
          "output_type": "stream",
          "name": "stdout",
          "text": [
            "less than 18\n"
          ]
        }
      ]
    },
    {
      "cell_type": "code",
      "source": [
        "var_number = 18\n",
        "if var_number % 2 == 0:\n",
        "  print(\"Even number\")\n",
        "else:\n",
        "  print(\"Odd number\")"
      ],
      "metadata": {
        "colab": {
          "base_uri": "https://localhost:8080/"
        },
        "id": "JpbrZB5dqz67",
        "outputId": "15d56402-d5e7-4f52-cbf1-96e17a142434"
      },
      "execution_count": 96,
      "outputs": [
        {
          "output_type": "stream",
          "name": "stdout",
          "text": [
            "Even number\n"
          ]
        }
      ]
    },
    {
      "cell_type": "code",
      "source": [
        "var_age = 19\n",
        "if not var_age == 18: ### if var_age!=18\n",
        "  print(\"Age is not equal to 18\")\n",
        "else:\n",
        "  print(\"Age is equal to 18\")"
      ],
      "metadata": {
        "colab": {
          "base_uri": "https://localhost:8080/"
        },
        "id": "q8KPOD8dsS77",
        "outputId": "ba6b3e1b-cb4b-4ce8-bc65-5f71df1ff193"
      },
      "execution_count": 98,
      "outputs": [
        {
          "output_type": "stream",
          "name": "stdout",
          "text": [
            "Age is not equal to 18\n"
          ]
        }
      ]
    },
    {
      "cell_type": "code",
      "source": [
        "# Multiple Condition\n",
        "\n",
        "var = 21\n",
        "if var >= 10 and var <= 20:\n",
        "  print(\"The age is within 10 to 20\")\n",
        "else:\n",
        "  print(\"The age is not within 10 to 20\")"
      ],
      "metadata": {
        "colab": {
          "base_uri": "https://localhost:8080/"
        },
        "id": "ynvFZE0vtNRy",
        "outputId": "f760a047-c7ef-48bf-a893-8668630543d4"
      },
      "execution_count": 102,
      "outputs": [
        {
          "output_type": "stream",
          "name": "stdout",
          "text": [
            "The age is not within 10 to 20\n"
          ]
        }
      ]
    },
    {
      "cell_type": "code",
      "source": [
        "# Nested if conditions\n",
        "\n",
        "var_age = 18\n",
        "var_weight = 50\n",
        "if var_age >= 18:\n",
        "  if var_weight <=50:\n",
        "    print(\"The age is greater than 18 and weight is less than 50\")\n",
        "  else:\n",
        "    print(\"The age is greater than 18 and weight is greater than 50\")\n",
        "\n"
      ],
      "metadata": {
        "colab": {
          "base_uri": "https://localhost:8080/"
        },
        "id": "Ai5tW1bZuBs1",
        "outputId": "081ce8a4-fcae-4b48-8b21-d5bccaafef61"
      },
      "execution_count": 104,
      "outputs": [
        {
          "output_type": "stream",
          "name": "stdout",
          "text": [
            "The age is greater than 18 and weight is less than 50\n"
          ]
        }
      ]
    },
    {
      "cell_type": "markdown",
      "source": [
        "LOOPS"
      ],
      "metadata": {
        "id": "uJ2SoOUsvUT5"
      }
    },
    {
      "cell_type": "markdown",
      "source": [],
      "metadata": {
        "id": "3fWni8bS26nU"
      }
    },
    {
      "cell_type": "code",
      "source": [
        "l1 = [1,2,3,4,5]\n",
        "for i in l1:\n",
        "  print(i)"
      ],
      "metadata": {
        "colab": {
          "base_uri": "https://localhost:8080/"
        },
        "id": "g1nkLxASvWVD",
        "outputId": "c7298898-9631-4f33-ace6-7e61553a1308"
      },
      "execution_count": 105,
      "outputs": [
        {
          "output_type": "stream",
          "name": "stdout",
          "text": [
            "1\n",
            "2\n",
            "3\n",
            "4\n",
            "5\n"
          ]
        }
      ]
    },
    {
      "cell_type": "code",
      "source": [
        "# for loop example\n",
        "\n",
        "#syntax\n",
        "#for i in seq:\n",
        "#Block of code\n",
        "# while condition\n",
        "#Block of code\n",
        "\n",
        "\n",
        "\n",
        "var_patient = [\"Patient 1\",\"Patient 2\",\"Patient 3\",\"Patient 4\"]\n",
        "var_age = [20,30,40,50]\n",
        "\n",
        "for var in var_patient:\n",
        "  print(\"Hi welcome to the hospital:\",var)\n",
        "\n",
        "  # for loop with if condition\n",
        "\n",
        "  count = 0\n",
        "  for var in var_age:\n",
        "    if var <30:\n",
        "      count = count + 1\n",
        "      print(count)\n",
        "\n",
        "\n",
        "\n"
      ],
      "metadata": {
        "colab": {
          "base_uri": "https://localhost:8080/"
        },
        "id": "VfobIqiZvjme",
        "outputId": "a4710658-9a8a-4201-bf7d-94eeb6be3b61"
      },
      "execution_count": 115,
      "outputs": [
        {
          "output_type": "stream",
          "name": "stdout",
          "text": [
            "Hi welcome to the hospital: Patient 1\n",
            "1\n",
            "Hi welcome to the hospital: Patient 2\n",
            "1\n",
            "Hi welcome to the hospital: Patient 3\n",
            "1\n",
            "Hi welcome to the hospital: Patient 4\n",
            "1\n"
          ]
        }
      ]
    },
    {
      "cell_type": "code",
      "source": [
        "var_patient = [\"Patient 1\",\"Patient 2\",\"Patient 3\",\"Patient 4\"]\n",
        "var_age = [20,30,40,50]\n",
        "count = 0\n",
        "for var in var_age:\n",
        " if var <30:\n",
        "      count = count + 1\n",
        "      print(count)\n"
      ],
      "metadata": {
        "colab": {
          "base_uri": "https://localhost:8080/"
        },
        "id": "ojO7gKOlzmSy",
        "outputId": "f1b34469-bf0d-449f-e974-465375613fa4"
      },
      "execution_count": 118,
      "outputs": [
        {
          "output_type": "stream",
          "name": "stdout",
          "text": [
            "1\n"
          ]
        }
      ]
    },
    {
      "cell_type": "code",
      "source": [
        "var_number = [1,2,3,4,5,6,7,8,9,10]\n",
        "count = 0\n",
        "for var in var_number:\n",
        "  if var %2 != 0:\n",
        "    count = count + 1\n",
        "    print(count)\n",
        ""
      ],
      "metadata": {
        "colab": {
          "base_uri": "https://localhost:8080/"
        },
        "id": "s9yErAnJ1PRs",
        "outputId": "454c4e93-882d-47c0-dbac-87ab4b8668f9"
      },
      "execution_count": 131,
      "outputs": [
        {
          "output_type": "stream",
          "name": "stdout",
          "text": [
            "1\n",
            "2\n",
            "3\n",
            "4\n",
            "5\n"
          ]
        }
      ]
    },
    {
      "cell_type": "code",
      "source": [
        "var_number = [1,2,3,4,5,6,7,8,9,10]\n",
        "count = 0\n",
        "for var in var_number:\n",
        "  if var %2 == 0:\n",
        "    count = count + 1\n",
        "    print(count)"
      ],
      "metadata": {
        "colab": {
          "base_uri": "https://localhost:8080/"
        },
        "id": "dib3AbXy3Tzw",
        "outputId": "23ca3532-7687-409e-ba15-6699012f253e"
      },
      "execution_count": 132,
      "outputs": [
        {
          "output_type": "stream",
          "name": "stdout",
          "text": [
            "1\n",
            "2\n",
            "3\n",
            "4\n",
            "5\n"
          ]
        }
      ]
    },
    {
      "cell_type": "code",
      "source": [
        "count_even = 0\n",
        "count_odd = 0\n",
        "l1 = [1,2,3,4,5]\n",
        "for i in l1:\n",
        "  if i%2==0:\n",
        "    count_even = count_even + 1\n",
        "    print(i,\" is even number\")\n",
        "  else:\n",
        "    count_odd = count_odd + 1\n",
        "    print(i, \"is odd number\")\n",
        "print(\"even numbers:\", count_even)\n",
        "print(\"odd numbers:\", count_odd)"
      ],
      "metadata": {
        "colab": {
          "base_uri": "https://localhost:8080/"
        },
        "id": "6EOkuIMC4GPm",
        "outputId": "2ee711bc-e577-4f35-b782-dd3a8475cc18"
      },
      "execution_count": 133,
      "outputs": [
        {
          "output_type": "stream",
          "name": "stdout",
          "text": [
            "1 is odd number\n",
            "2  is even number\n",
            "3 is odd number\n",
            "4  is even number\n",
            "5 is odd number\n",
            "even numbers: 2\n",
            "odd numbers: 3\n"
          ]
        }
      ]
    },
    {
      "cell_type": "code",
      "source": [
        "count_even = 0\n",
        "count_odd = 0\n",
        "l1 = [1,2,3,4,5,6,7,8,9,10]\n",
        "for i in l1:\n",
        "  if i%2==0:\n",
        "    count_even = count_even + 1\n",
        "    print(i,\" is even number\")\n",
        "  else:\n",
        "    count_odd = count_odd + 1\n",
        "    print(i, \"is odd number\")\n",
        "print(\"even numbers:\", count_even)\n",
        "print(\"odd numbers:\", count_odd)"
      ],
      "metadata": {
        "colab": {
          "base_uri": "https://localhost:8080/"
        },
        "id": "j8H9XNkN4Y4g",
        "outputId": "b4d90276-4480-40cc-f90c-f0afd50f06e8"
      },
      "execution_count": 134,
      "outputs": [
        {
          "output_type": "stream",
          "name": "stdout",
          "text": [
            "1 is odd number\n",
            "2  is even number\n",
            "3 is odd number\n",
            "4  is even number\n",
            "5 is odd number\n",
            "6  is even number\n",
            "7 is odd number\n",
            "8  is even number\n",
            "9 is odd number\n",
            "10  is even number\n",
            "even numbers: 5\n",
            "odd numbers: 5\n"
          ]
        }
      ]
    },
    {
      "cell_type": "code",
      "source": [
        "#while loop\n",
        "\n",
        "\n",
        "num_medicine = 10\n",
        "while num_medicine > 0:\n",
        "  num_medicine = num_medicine - 1\n",
        "  print(\"Medicine left:\",num_medicine)"
      ],
      "metadata": {
        "colab": {
          "base_uri": "https://localhost:8080/"
        },
        "id": "buSqjz9H5VMS",
        "outputId": "f2382a2e-e888-429d-8ee5-898de0305c24"
      },
      "execution_count": 135,
      "outputs": [
        {
          "output_type": "stream",
          "name": "stdout",
          "text": [
            "Medicine left: 9\n",
            "Medicine left: 8\n",
            "Medicine left: 7\n",
            "Medicine left: 6\n",
            "Medicine left: 5\n",
            "Medicine left: 4\n",
            "Medicine left: 3\n",
            "Medicine left: 2\n",
            "Medicine left: 1\n",
            "Medicine left: 0\n"
          ]
        }
      ]
    },
    {
      "cell_type": "code",
      "source": [
        "num_medicine = 45\n",
        "while num_medicine > 9:\n",
        "  num_medicine = num_medicine -9\n",
        "  print(\"Medicie left:\",num_medicine)"
      ],
      "metadata": {
        "colab": {
          "base_uri": "https://localhost:8080/"
        },
        "id": "poDoUo_65yE4",
        "outputId": "1f36ae16-e55c-4cf0-f5b9-71aee62a2e2c"
      },
      "execution_count": 138,
      "outputs": [
        {
          "output_type": "stream",
          "name": "stdout",
          "text": [
            "Medicie left: 36\n",
            "Medicie left: 27\n",
            "Medicie left: 18\n",
            "Medicie left: 9\n"
          ]
        }
      ]
    },
    {
      "cell_type": "code",
      "source": [
        "#range\n",
        "\n",
        "\n",
        "\n",
        "for i in range(4,12,3):\n",
        "  print(i)"
      ],
      "metadata": {
        "colab": {
          "base_uri": "https://localhost:8080/"
        },
        "id": "Kz27GnKU6ud8",
        "outputId": "1cce4853-16cb-4cb6-9388-90bb4c698cf4"
      },
      "execution_count": 140,
      "outputs": [
        {
          "output_type": "stream",
          "name": "stdout",
          "text": [
            "4\n",
            "7\n",
            "10\n"
          ]
        }
      ]
    },
    {
      "cell_type": "markdown",
      "source": [
        "Break statement example"
      ],
      "metadata": {
        "id": "Xo4XB5_07ll2"
      }
    },
    {
      "cell_type": "code",
      "source": [
        "#break statement example\n",
        "\n",
        "num = [\"Patient 1\",\"Patient 2\",\"Patient 3\",\"Patient 4\"]\n",
        "for var in num:\n",
        "  if var == \"Patient 3\":\n",
        "    print(\"Found Patient 3\")\n",
        "    break\n",
        "  else:\n",
        "      print(\"Did not find Patient 3\")"
      ],
      "metadata": {
        "colab": {
          "base_uri": "https://localhost:8080/"
        },
        "id": "co-i4dvt7kuR",
        "outputId": "dd307249-7926-44ca-89d4-c8b2f650cb35"
      },
      "execution_count": 142,
      "outputs": [
        {
          "output_type": "stream",
          "name": "stdout",
          "text": [
            "Did not find Patient 3\n",
            "Did not find Patient 3\n",
            "Found Patient 3\n"
          ]
        }
      ]
    },
    {
      "cell_type": "code",
      "source": [
        "# Continue statement example\n",
        "var_bp = [120,130,110,140,115,150,125,155,160]\n",
        "\n",
        "for i in var_bp:\n",
        "  if i < 130:\n",
        "    continue\n",
        "  print(\"High BP Value(mmHg):\",i)"
      ],
      "metadata": {
        "colab": {
          "base_uri": "https://localhost:8080/"
        },
        "id": "41AnNdn39NV2",
        "outputId": "fa86144a-917c-4bda-8ccc-c95fdfbe30ba"
      },
      "execution_count": 149,
      "outputs": [
        {
          "output_type": "stream",
          "name": "stdout",
          "text": [
            "High BP Value(mmHg): 130\n",
            "High BP Value(mmHg): 140\n",
            "High BP Value(mmHg): 150\n",
            "High BP Value(mmHg): 155\n",
            "High BP Value(mmHg): 160\n"
          ]
        }
      ]
    },
    {
      "cell_type": "code",
      "source": [
        "# Enumerate\n",
        "\n",
        "var_bp = [120,130,110,140,115,150,125,155,160]\n",
        "for index,var in enumerate(var_bp):\n",
        "  print(index,var)"
      ],
      "metadata": {
        "colab": {
          "base_uri": "https://localhost:8080/"
        },
        "id": "Wam59O7--Zkv",
        "outputId": "20700e3d-4613-4fcc-9f2f-7664301e8dfa"
      },
      "execution_count": 150,
      "outputs": [
        {
          "output_type": "stream",
          "name": "stdout",
          "text": [
            "0 120\n",
            "1 130\n",
            "2 110\n",
            "3 140\n",
            "4 115\n",
            "5 150\n",
            "6 125\n",
            "7 155\n",
            "8 160\n"
          ]
        }
      ]
    },
    {
      "cell_type": "code",
      "source": [
        "var_bp = [120,130,110,140,115,150,125,155,160]\n",
        "for index,var in enumerate(var_bp):\n",
        "  if var > 130:\n",
        "     print(\"Index is:\",index,\"Value is \",var)"
      ],
      "metadata": {
        "colab": {
          "base_uri": "https://localhost:8080/"
        },
        "id": "dH3uNPkz_z8Y",
        "outputId": "19435101-1bb9-48be-c51d-5107dd405d53"
      },
      "execution_count": 160,
      "outputs": [
        {
          "output_type": "stream",
          "name": "stdout",
          "text": [
            "Index is: 3 Value is  140\n",
            "Index is: 5 Value is  150\n",
            "Index is: 7 Value is  155\n",
            "Index is: 8 Value is  160\n"
          ]
        }
      ]
    },
    {
      "cell_type": "code",
      "source": [
        "#zip\n",
        "\n",
        "var_patient = [\"Patient 1\",\"Patient 2\",\"Patient 3\",\"Patient 4\"]\n",
        "var_age = [20,30,40,50]\n",
        "var_weight = [30.5,30,40.5,50.5]\n",
        "\n",
        "for num1,num2,num3 in zip(var_patient,var_age,var_weight):\n",
        " # print(\"Patient ID is:\", num1, \"and age is:\", num2, \"and weight is:\"num3)\n",
        "\n",
        " print(f\"Patient ID is: {num1} and age is: {num2} and weight is: {num3}\")"
      ],
      "metadata": {
        "colab": {
          "base_uri": "https://localhost:8080/"
        },
        "id": "YrJvs45XBDCv",
        "outputId": "f0953352-559e-4544-a5e9-0848a765b34a"
      },
      "execution_count": 161,
      "outputs": [
        {
          "output_type": "stream",
          "name": "stdout",
          "text": [
            "Patient ID is: Patient 1 and age is: 20 and weight is: 30.5\n",
            "Patient ID is: Patient 2 and age is: 30 and weight is: 30\n",
            "Patient ID is: Patient 3 and age is: 40 and weight is: 40.5\n",
            "Patient ID is: Patient 4 and age is: 50 and weight is: 50.5\n"
          ]
        }
      ]
    },
    {
      "cell_type": "code",
      "source": [
        "var_student = [\"SHREYA\",\"DEEPAK\",\"NEHA\",\"GANESH\"]\n",
        "var_score = [50,30,40,25]\n",
        "var_ranking = [4,2,1,3]\n",
        "\n",
        "for num1,num2,num3 in zip(var_student,var_score,var_ranking):\n",
        "  print(f\"Student Name is: {num1} and score is: {num2} and ranking is: {num3}\")"
      ],
      "metadata": {
        "colab": {
          "base_uri": "https://localhost:8080/"
        },
        "id": "V1tmmlo7D88j",
        "outputId": "cd94971f-bb61-461f-a2ad-62654cda6d85"
      },
      "execution_count": 162,
      "outputs": [
        {
          "output_type": "stream",
          "name": "stdout",
          "text": [
            "Student Name is: SHREYA and score is: 50 and ranking is: 4\n",
            "Student Name is: DEEPAK and score is: 30 and ranking is: 2\n",
            "Student Name is: NEHA and score is: 40 and ranking is: 1\n",
            "Student Name is: GANESH and score is: 25 and ranking is: 3\n"
          ]
        }
      ]
    }
  ]
}