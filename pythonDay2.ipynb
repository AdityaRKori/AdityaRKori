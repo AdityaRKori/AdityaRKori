{
  "nbformat": 4,
  "nbformat_minor": 0,
  "metadata": {
    "colab": {
      "provenance": []
    },
    "kernelspec": {
      "name": "python3",
      "display_name": "Python 3"
    },
    "language_info": {
      "name": "python"
    }
  },
  "cells": [
    {
      "cell_type": "code",
      "execution_count": null,
      "metadata": {
        "id": "w0sOuLom4Fdp"
      },
      "outputs": [],
      "source": [
        "def fn_add(a,b):\n",
        "  c = a+b\n",
        "  return c\n",
        "\n",
        "  var_sum = fn_add(2,3)\n",
        "\n",
        "  print(\"Addition of 2 numbers is:\",var_sum)\n",
        "\n",
        "  fn_add(10,3)"
      ]
    },
    {
      "cell_type": "code",
      "source": [
        "def fn_sub(a,b):\n",
        "  c = a-b\n",
        "  return c\n",
        "\n",
        "  var_sub = fn_sub(a=1,b=2)\n",
        "\n",
        "  print(\"Subtraction of 2 numbers is:\",var_sub)\n",
        "\n",
        "  fn_sub(10,3)"
      ],
      "metadata": {
        "id": "uAZ5lgmv59Fd"
      },
      "execution_count": null,
      "outputs": []
    },
    {
      "cell_type": "code",
      "source": [
        "def fn_mul(a,b):\n",
        "  c = a*b\n",
        "  return c\n",
        "\n",
        "  var_mul = fn_mul(a=1,b=2)\n",
        "\n",
        "  print(\"Multiplication of 2 numbers is:\",var_mul)"
      ],
      "metadata": {
        "id": "9Jv1bI6e6h78"
      },
      "execution_count": null,
      "outputs": []
    },
    {
      "cell_type": "code",
      "source": [
        "def fn_div(a,b):\n",
        "  c = a/b\n",
        "  return c\n",
        "\n",
        "  var_div = fn_div(a=1,b=2)\n",
        "\n",
        "  print(\"Division of 2 numbers is:\",var_div)"
      ],
      "metadata": {
        "id": "Kbp85FOV6nTV"
      },
      "execution_count": null,
      "outputs": []
    },
    {
      "cell_type": "code",
      "source": [
        "def fn_div(a,b):\n",
        "  c = a//b\n",
        "  return c\n",
        "\n",
        "  var_div = fn_div(a=1,b=2)\n",
        "\n",
        "  print(\"Division of 2 numbers is:\",var_div)\n",
        "\n",
        "  fn_div(a=2,b=412)"
      ],
      "metadata": {
        "id": "5am5fKyV7vf7"
      },
      "execution_count": null,
      "outputs": []
    },
    {
      "cell_type": "code",
      "source": [
        "# syntax\n",
        "# def function_name(parameters):\n",
        "#  Block of code\n",
        "#\n",
        "# function_name(arguments)\n",
        "\n",
        "def greet(name,age,gender):\n",
        "  print(f\"Hi, Welcome to hospital:{name}\")\n",
        "  print(f\"Your age is {age}\")\n",
        "  print(f\"Your gender is {gender}\")\n",
        "\n",
        "  greet(\"patient1\",12,\"Female\")\n",
        "  greet(\"patient2\",58,\"Male\")\n",
        "\n",
        "  # Function with Return Values\n",
        "\n",
        "  def sub(a,b=10):\n",
        "        return a-b\n",
        "\n",
        "  sub_var = sub(2,1)\n",
        "  sub_var_default = sub(2)\n",
        "\n",
        "  print(\"Subtraction of 2 numbers is:\",sub_var)\n",
        "  print(\"Subtraction of 2 numbers with default is:\",sub_var_default)\n",
        "\n",
        "\n",
        "\n"
      ],
      "metadata": {
        "id": "xcjnQKU08hPw"
      },
      "execution_count": null,
      "outputs": []
    },
    {
      "cell_type": "code",
      "source": [
        "# Funtion with if condition\n",
        "\n",
        "def classify_age_group(age):\n",
        "  if age < 18:\n",
        "    return \"Minor\"\n",
        "  elif age >= 18 and age < 65:\n",
        "    return \"Adult\"\n",
        "  else:\n",
        "    return \"Senior\"\n",
        "\n",
        "    age=100\n",
        "    age_group = classify_age_group(age)\n",
        "    print(f\"The age group for age {age} is {age_group}.\")\n"
      ],
      "metadata": {
        "id": "V6CvDhyfCbNk"
      },
      "execution_count": null,
      "outputs": []
    },
    {
      "cell_type": "code",
      "source": [
        "# Funtion with if condition\n",
        "\n",
        "def classify_age_group(age):\n",
        "  if age < 18:\n",
        "      return \"Child\"\n",
        "  else:\n",
        "      return \"Adult\"\n",
        "\n",
        "      age=100\n",
        "      var_patient1 = classify_age_group(age)\n",
        "      print(f'The age group for age {age} is {var_patient1}')\n",
        "\n",
        "      # var_patient2 = classify_age_group(17)\n",
        "      #print('patient with age 18 is:',var_patient2)\n"
      ],
      "metadata": {
        "id": "WqaEc1EuC7lR"
      },
      "execution_count": null,
      "outputs": []
    },
    {
      "cell_type": "code",
      "source": [
        "def add_three(list_age):\n",
        "  list_age_three = []\n",
        "  for i in list_age:\n",
        "    list_age_three.append(i+3)\n",
        "  return list_age_three\n",
        "\n",
        "  list_sample = [1,2,3,4,5]\n",
        "  list_sample = add_three(list_sample)\n",
        "  print(list_sample)"
      ],
      "metadata": {
        "id": "9TkawITUEQAV"
      },
      "execution_count": null,
      "outputs": []
    },
    {
      "cell_type": "code",
      "source": [
        "def add_three_and_classify(list_age):\n",
        "  list_age_three = []\n",
        "  odd_numbers = []\n",
        "  even_numbers = []\n",
        "  for i in list_age:\n",
        "    list_age_three.append(i + 0)\n",
        "  for num in list_age_three:\n",
        "    if num % 2 == 0:\n",
        "      even_numbers.append(num)\n",
        "    else:\n",
        "      odd_numbers.append(num)\n",
        "\n",
        "  return odd_numbers, even_numbers\n",
        "\n",
        "list_sample = [1, 2, 3, 4, 5, 6, 7, 8, 9, 10]\n",
        "odd_nums, even_nums = add_three_and_classify(list_sample)\n",
        "\n",
        "print(\"Odd numbers:\", odd_nums)\n",
        "print(\"Even numbers:\", even_nums)"
      ],
      "metadata": {
        "colab": {
          "base_uri": "https://localhost:8080/"
        },
        "id": "K5zeC3rwGRe9",
        "outputId": "9f91d7de-8fd8-4e01-b211-fedab9da98c2"
      },
      "execution_count": null,
      "outputs": [
        {
          "output_type": "stream",
          "name": "stdout",
          "text": [
            "Odd numbers: [1, 3, 5, 7, 9]\n",
            "Even numbers: [2, 4, 6, 8, 10]\n"
          ]
        }
      ]
    },
    {
      "cell_type": "code",
      "source": [
        "def assess_lifestyle_habits():\n",
        "  \"\"\"Assesses lifestyle habits and provides feedback.\"\"\"\n",
        "\n",
        "  meals_per_day = int(input(\"How many meals do you eat per day on average? \"))\n",
        "\n",
        "  walking_distance_per_week = float(input(\"How many miles do you walk per week on average? \"))\n",
        "\n",
        "  if meals_per_day > 3 and walking_distance_per_week > 150:\n",
        "    lifestyle_assessment = \"Good\"\n",
        "    feedback = \"Your lifestyle habits are good! Keep up the great work!\"\n",
        "  elif meals_per_day == 3 and walking_distance_per_week == 150:\n",
        "    lifestyle_assessment = \"Average\"\n",
        "    feedback = \"Your lifestyle habits are average. Consider improving your diet and exercise routine for better health.\"\n",
        "  else:\n",
        "    lifestyle_assessment = \"Bad\"\n",
        "    feedback = \"Your lifestyle habits need improvement. Aim for at least 3 meals a day and more than 150 miles of walking per week.\"\n",
        "    if meals_per_day >= 3 and walking_distance_per_week <= 150:\n",
        "      lifestyle_assessment = \"below average\"\n",
        "      feedback = \"Your lifestyle habits are below average. Consider improving your exercise routine for better health.\"\n",
        "  if meals_per_day <= 3 and walking_distance_per_week >= 150:\n",
        "        lifestyle_assessment = \"below average\"\n",
        "        feedback = \"Your lifestyle habits are below average. Consider improving your diet for better health.\"\n",
        "\n",
        "\n",
        "  print(f\"Your lifestyle assessment: {lifestyle_assessment}\")\n",
        "  print(feedback)\n",
        "\n",
        "assess_lifestyle_habits()"
      ],
      "metadata": {
        "colab": {
          "base_uri": "https://localhost:8080/"
        },
        "id": "4QFHeUzZPc0b",
        "outputId": "9e28d9b6-c64a-4c64-c224-de1281119b6f"
      },
      "execution_count": null,
      "outputs": [
        {
          "output_type": "stream",
          "name": "stdout",
          "text": [
            "How many meals do you eat per day on average? 4\n",
            "How many miles do you walk per week on average? 155\n",
            "Your lifestyle assessment: Good\n",
            "Your lifestyle habits are good! Keep up the great work!\n"
          ]
        }
      ]
    },
    {
      "cell_type": "code",
      "source": [
        "# defining the class\n",
        "class Car:\n",
        "  def __init__(self, brand, color):\n",
        "    self.brand = brand #Attribute\n",
        "    self.color = color #Attribute\n",
        "\n",
        "  def start(self): #Method\n",
        "    print(f\"The {self.color} {self.brand} car has started.\")\n",
        "\n",
        "  def stop(self): #Method\n",
        "    print(f\"The {self.color} {self.brand} is stopping.\")\n",
        "\n",
        "# creating objects\n",
        "car1 = Car(\"Toyota\",\"Red\")\n",
        "car2 = Car(\"Honda\",\"Blue\")\n",
        "\n",
        "# Accessing attributes and methods\n",
        "print(car1.brand) # Output: Toyota\n",
        "car1.start() # Output: The Red Toyota car has started.\n",
        "\n",
        "print(car2.color) # Output: Blue\n",
        "car2.start() # Output: The Blue Honda car has started.\n",
        "\n",
        "car1.start()\n",
        "car2.start()\n",
        "\n",
        "car1.stop()\n",
        "car2.stop()"
      ],
      "metadata": {
        "colab": {
          "base_uri": "https://localhost:8080/"
        },
        "id": "tGCxALwcZfe-",
        "outputId": "36a8d8c2-3cc8-48c4-c594-3c92705cbfe0"
      },
      "execution_count": null,
      "outputs": [
        {
          "output_type": "stream",
          "name": "stdout",
          "text": [
            "Toyota\n",
            "The Red Toyota car has started.\n",
            "Blue\n",
            "The Blue Honda car has started.\n",
            "The Red Toyota car has started.\n",
            "The Blue Honda car has started.\n",
            "The Red Toyota is stopping.\n",
            "The Blue Honda is stopping.\n"
          ]
        }
      ]
    },
    {
      "cell_type": "code",
      "source": [
        "import matplotlib.pyplot as plt\n",
        "\n",
        "# Define the Car class\n",
        "class Car:\n",
        "    def __init__(self, brand, color, cost):\n",
        "        self.brand = brand\n",
        "        self.color = color\n",
        "        self.cost = cost\n",
        "\n",
        "    def start(self):\n",
        "        print(f\"The {self.color} {self.brand} car has started.\")\n",
        "\n",
        "# Create instances of the Car class\n",
        "car1 = Car(\"Toyota\", \"Red\", 2000)\n",
        "car2 = Car(\"Honda\", \"Blue\", 30000)\n",
        "\n",
        "# Accessing attributes and methods\n",
        "print(car1.brand)           # Output: Toyota\n",
        "car1.start()                # Output: The Red Toyota car has started.\n",
        "print(car2.color)           # Output: Blue\n",
        "car2.start()                # Output: The Blue Honda car has started.\n",
        "print(car1.cost)            # Output: 2000\n",
        "print(car2.cost)            # Output: 30000\n",
        "\n",
        "# Data for pie chart\n",
        "brands = [car1.brand, car2.brand]\n",
        "costs = [car1.cost, car2.cost]\n",
        "\n",
        "# Create pie chart\n",
        "plt.figure(figsize=(6, 6))\n",
        "plt.pie(costs, labels=brands, autopct='%1.1f%%', startangle=140, colors=['red', 'blue'])\n",
        "plt.title(\"Cost Distribution of Cars\")\n",
        "plt.show()"
      ],
      "metadata": {
        "colab": {
          "base_uri": "https://localhost:8080/",
          "height": 625
        },
        "id": "KKrH9q8kEqce",
        "outputId": "81c10190-8a49-48b4-b1e3-d93df1009b57"
      },
      "execution_count": null,
      "outputs": [
        {
          "output_type": "stream",
          "name": "stdout",
          "text": [
            "Toyota\n",
            "The Red Toyota car has started.\n",
            "Blue\n",
            "The Blue Honda car has started.\n",
            "2000\n",
            "30000\n"
          ]
        },
        {
          "output_type": "display_data",
          "data": {
            "text/plain": [
              "<Figure size 600x600 with 1 Axes>"
            ],
            "image/png": "[encoded data removed]"
          },
          "metadata": {}
        }
      ]
    },
    {
      "cell_type": "code",
      "source": [
        "import numpy as np"
      ],
      "metadata": {
        "id": "DmD9rXYICDrK"
      },
      "execution_count": null,
      "outputs": []
    },
    {
      "cell_type": "code",
      "source": [
        "np_sugar = np.array([100, 200, 150, 110, 200, 80, 150])\n",
        "\n",
        "print(\"Number of months with diabetic levels :\", len(np_sugar[np_sugar >= 126]))\n",
        "print(\"Number of months with prediabetic levels :\", len(np_sugar[(np_sugar >= 100) & (np_sugar <= 125)]))\n",
        "print(\"Number of months with normal levels :\", len(np_sugar[np_sugar < 100]))\n",
        "print(\"Average blood sugar level :\", np_sugar.mean())"
      ],
      "metadata": {
        "colab": {
          "base_uri": "https://localhost:8080/"
        },
        "id": "MvmtV0MZBs1f",
        "outputId": "0d6cdee9-b490-49a6-d959-0009959dd829"
      },
      "execution_count": null,
      "outputs": [
        {
          "output_type": "stream",
          "name": "stdout",
          "text": [
            "Number of months with diabetic levels : 4\n",
            "Number of months with prediabetic levels : 2\n",
            "Number of months with normal levels : 1\n",
            "Average blood sugar level : 141.42857142857142\n"
          ]
        }
      ]
    },
    {
      "cell_type": "code",
      "source": [
        "import matplotlib.pyplot as plt\n",
        "\n",
        "# Define the function to categorize fasting blood sugar levels\n",
        "def categorize_blood_sugar(levels):\n",
        "    normal = 0\n",
        "    prediabetes = 0\n",
        "    diabetes = 0\n",
        "\n",
        "    for level in levels:\n",
        "        if level <= 99:\n",
        "            normal += 1\n",
        "        elif 100 <= level <= 125:\n",
        "            prediabetes += 1\n",
        "        else:\n",
        "            diabetes += 1\n",
        "\n",
        "    return normal, prediabetes, diabetes\n",
        "\n",
        "# Input: Fasting blood sugar levels for each month\n",
        "blood_sugar_levels = [85, 90, 102, 130, 120, 95, 99, 100, 110, 126, 140, 80]\n",
        "\n",
        "# Categorize the blood sugar levels\n",
        "normal_count, prediabetes_count, diabetes_count = categorize_blood_sugar(blood_sugar_levels)\n",
        "\n",
        "# Output the results\n",
        "print(f\"Normal Range Count: {normal_count}\")\n",
        "print(f\"Pre-Diabetes Range Count: {prediabetes_count}\")\n",
        "print(f\"Diabetes Range Count: {diabetes_count}\")\n",
        "\n",
        "# Data for the pie chart\n",
        "labels = ['Normal', 'Pre-Diabetes', 'Diabetes']\n",
        "counts = [normal_count, prediabetes_count, diabetes_count]\n",
        "colors = ['green', 'orange', 'red']\n",
        "\n",
        "# Create the pie chart\n",
        "plt.figure(figsize=(6, 6))\n",
        "plt.pie(counts, labels=labels, autopct='%1.1f%%', startangle=140, colors=colors)\n",
        "plt.title(\"Blood Sugar Level Distribution\")\n",
        "plt.show()"
      ],
      "metadata": {
        "colab": {
          "base_uri": "https://localhost:8080/",
          "height": 573
        },
        "id": "qrte5ITpCTe2",
        "outputId": "5722de04-2ef6-4217-c46b-3f0f36abc30c"
      },
      "execution_count": null,
      "outputs": [
        {
          "output_type": "stream",
          "name": "stdout",
          "text": [
            "Normal Range Count: 5\n",
            "Pre-Diabetes Range Count: 4\n",
            "Diabetes Range Count: 3\n"
          ]
        },
        {
          "output_type": "display_data",
          "data": {
            "text/plain": [
              "<Figure size 600x600 with 1 Axes>"
            ],
            "image/png": "[encoded data removed]"
          },
          "metadata": {}
        }
      ]
    },
    {
      "cell_type": "code",
      "source": [
        "np_arr = np.array([100,95,98,112,126,147,155,140,120,110,96,162])\n",
        "np_asc = np.sort(np_arr)\n",
        "np_desc = np.sort(np_arr)[::-100]\n",
        "print(\"The sorted array in ascending order is:\",np_asc)\n",
        "print(\"The sorted array in descending order is:\",np_desc)"
      ],
      "metadata": {
        "colab": {
          "base_uri": "https://localhost:8080/"
        },
        "id": "pIaFd5TEDJsA",
        "outputId": "d626396d-2261-4335-c82d-7fdeb662e913"
      },
      "execution_count": null,
      "outputs": [
        {
          "output_type": "stream",
          "name": "stdout",
          "text": [
            "The sorted array in ascending order is: [ 95  96  98 100 110 112 120 126 140 147 155 162]\n",
            "The sorted array in descending order is: [162]\n"
          ]
        }
      ]
    },
    {
      "cell_type": "code",
      "source": [
        "np_arr = np.array([100, 120, 95, 130, 110, 105, 125, 135, 98, 115, 122, 108])\n",
        "print(\"Initial array is:\",np_arr)\n",
        "\n",
        "np_arr1 = np_arr[np_arr<99]\n",
        "print(\"Array Elements less than 99 are:\",np_arr1)\n",
        "\n",
        "np_arr2 = np_arr[np_arr>126]\n",
        "print(\"Array Elements greater than 126 are:\",np_arr2)\n",
        "\n",
        "np_arr3 = np_arr[(np_arr>99) | (np_arr<126)]\n",
        "print(\"Array Elements greater than 99 and less than 126 are:\",np_arr3)"
      ],
      "metadata": {
        "colab": {
          "base_uri": "https://localhost:8080/"
        },
        "id": "E2F6e4lZDX71",
        "outputId": "56ec8f65-220b-4904-ebc2-3360b64ca62f"
      },
      "execution_count": null,
      "outputs": [
        {
          "output_type": "stream",
          "name": "stdout",
          "text": [
            "Initial array is: [100 120  95 130 110 105 125 135  98 115 122 108]\n",
            "Array Elements less than 99 are: [95 98]\n",
            "Array Elements greater than 126 are: [130 135]\n",
            "Array Elements greater than 99 and less than 126 are: [100 120  95 130 110 105 125 135  98 115 122 108]\n"
          ]
        }
      ]
    },
    {
      "cell_type": "code",
      "source": [
        "def analyze_blood_sugar(blood_sugar_levels):\n",
        "    # Initialize counters\n",
        "    normal_count = 0\n",
        "    prediabetes_count = 0\n",
        "    diabetes_count = 0\n",
        "\n",
        "    # Analyze each month's blood sugar level\n",
        "\n",
        "    for level in blood_sugar_levels:\n",
        "        if level <= 99:\n",
        "            normal_count += 1\n",
        "        elif 100 <= level <= 125:\n",
        "            prediabetes_count += 1\n",
        "        elif level >= 126:\n",
        "            diabetes_count += 1\n",
        "\n",
        "    return normal_count, prediabetes_count, diabetes_count\n",
        "\n",
        "# Input: List of fasting blood sugar levels for each month\n",
        "blood_sugar_levels = [95, 110, 125, 130, 99, 101, 127, 85, 140, 98, 120, 102]\n",
        "\n",
        "# Get results\n",
        "normal_count, prediabetes_count, diabetes_count = analyze_blood_sugar(blood_sugar_levels)\n",
        "\n",
        "# Print the results\n",
        "print(f\"Normal range months: {normal_count}\")\n",
        "print(f\"Pre-diabetes range months: {prediabetes_count}\")\n",
        "print(f\"Diabetes range months: {diabetes_count}\")"
      ],
      "metadata": {
        "colab": {
          "base_uri": "https://localhost:8080/"
        },
        "id": "xY_4hAUSDeir",
        "outputId": "1eedb4b0-b056-4a6c-cde0-97ee75e89c99"
      },
      "execution_count": null,
      "outputs": [
        {
          "output_type": "stream",
          "name": "stdout",
          "text": [
            "Normal range months: 4\n",
            "Pre-diabetes range months: 5\n",
            "Diabetes range months: 3\n"
          ]
        }
      ]
    },
    {
      "cell_type": "code",
      "source": [
        "class calculator:\n",
        "  def __init__(self, brand, cost, color):\n",
        "    self.brand = brand\n",
        "    self.cost = cost\n",
        "    self.color = color\n",
        "\n",
        "  def start(self):\n",
        "    print(f\"The {self.brand} watch costs {self.cost} and the color is {self.color} and do the functions like add,sub,mul,divide\")\n",
        "\n",
        "  def add(self,a,b):\n",
        "      return a+b\n",
        "\n",
        "  def sub(self,a,b):\n",
        "      return a-b\n",
        "\n",
        "  def mul(self,a,b):\n",
        "      return a*b\n",
        "\n",
        "  def div(self,a,b):\n",
        "      return a/b\n",
        "\n",
        "\n",
        "\n",
        "calculator1 = calculator(\"samsung\",10000,\"black\")\n",
        "calculator2 = calculator(\"apple\",20000,\"white\")\n",
        "a = 3\n",
        "b = 5\n",
        "\n",
        "addition_result = calculator1.add(a,b)\n",
        "subtraction_result = calculator1.sub(a,b)\n",
        "multiplication_result = calculator1.mul(a,b)\n",
        "\n",
        "print(\"Addition:\", addition_result)\n",
        "print(\"Subtraction:\", subtraction_result)\n",
        "print(\"Multiplication:\", multiplication_result)\n",
        "\n",
        "print(calculator1.brand)\n",
        "calculator1.start()\n",
        "print(calculator2.cost)\n",
        "calculator2.start()"
      ],
      "metadata": {
        "colab": {
          "base_uri": "https://localhost:8080/"
        },
        "id": "-3pix7OFDl-1",
        "outputId": "553dedf9-df21-4ef0-93e1-ab6bff191c8f"
      },
      "execution_count": null,
      "outputs": [
        {
          "output_type": "stream",
          "name": "stdout",
          "text": [
            "Addition: 8\n",
            "Subtraction: -2\n",
            "Multiplication: 15\n",
            "samsung\n",
            "The samsung watch costs 10000 and the color is black and do the functions like add,sub,mul,divide\n",
            "20000\n",
            "The apple watch costs 20000 and the color is white and do the functions like add,sub,mul,divide\n"
          ]
        }
      ]
    }
  ]
}